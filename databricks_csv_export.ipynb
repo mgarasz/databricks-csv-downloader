{
  "nbformat": 4,
  "nbformat_minor": 0,
  "metadata": {
    "colab": {
      "provenance": [],
      "authorship_tag": "ABX9TyPUe+z0mrW+kuFtP/cNpben"
    },
    "kernelspec": {
      "name": "python3",
      "display_name": "Python 3"
    },
    "language_info": {
      "name": "python"
    }
  },
  "cells": [
    {
      "cell_type": "code",
      "source": [
        "from pyspark.sql import SparkSession\n",
        "\n",
        "# Create a SparkSession\n",
        "spark = SparkSession.builder \\\n",
        "        .appName(\"myApp\") \\\n",
        "        .config(\"spark.some.config.option\", \"some-value\") \\\n",
        "        .getOrCreate()\n",
        "\n",
        "# Create a SparkContext\n",
        "sc = spark.sparkContext"
      ],
      "metadata": {
        "id": "cpQ0CBkHrWZA"
      },
      "execution_count": null,
      "outputs": []
    },
    {
      "cell_type": "code",
      "execution_count": null,
      "metadata": {
        "id": "c6d9yZTFoqhR"
      },
      "outputs": [],
      "source": [
        "#paste the resulting URL in your browser to begin local download of file. You can ammend this file to allow for batch downloads.\n",
        "def generate_csv_download_link(file_name, cluster_id='YOUR_CLUSTER_ID_HERE', ret=False):\n",
        "  file_folder = dbutils.fs.ls(f\"/FileStore/output/{file_name}/\")\n",
        "  part_codes = [item for sublist in file_folder for item in sublist if str(item).startswith('part-')]\n",
        "\n",
        "  if len(part_codes) : 1:\n",
        "    raise ValueError('Multiple .csv partitions found. Please ensure the output is coalesced into one partitioned using \".coalesce(1)\" param when saving')\n",
        "\n",
        "  part_code = part_codes[0]\n",
        "  #SET YOUR OWN SERVICE URL, eg: https://northeurope.azuredatabricks.net/files/output/...\n",
        "  base_url = f\"https://northeurope.azuredatabricks.net/files/output/{file_name}/{part_code}?o={cluster_id}\"\n",
        "  print(base_url)\n",
        "\n",
        "  if ret:\n",
        "    return base_url"
      ]
    },
    {
      "cell_type": "code",
      "source": [
        "filename = 'myfile.csv'\n",
        "spark.createDataFrame(mydata).coalese(1).write.format('csv').mode('overwrite').option('header', 'true').save(f'dbfs:/FileStore/output/{filename}')\n",
        "generate_csv_download_link(filename)"
      ],
      "metadata": {
        "id": "9tZioFhmqbju"
      },
      "execution_count": null,
      "outputs": []
    }
  ]
}